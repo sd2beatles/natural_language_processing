{
 "cells": [
  {
   "cell_type": "code",
   "execution_count": 67,
   "metadata": {},
   "outputs": [
    {
     "name": "stderr",
     "output_type": "stream",
     "text": [
      "/usr/local/lib/python3.6/dist-packages/ipykernel_launcher.py:14: DeprecationWarning: The 'cachedir' parameter has been deprecated in version 0.12 and will be removed in version 0.14.\n",
      "You provided \"cachedir='cache/'\", use \"location='cache/'\" instead.\n",
      "  \n"
     ]
    }
   ],
   "source": [
    "from torchtext import data\n",
    "import numpy as np\n",
    "import pandas as pd\n",
    "import spacy\n",
    "import torch\n",
    "from joblib import Memory\n",
    "import re\n",
    "import nltk\n",
    "import logging\n",
    "import torch.nn as nn\n",
    "import torch.nn.functional as F\n",
    "import torch.nn as nn\n",
    "\n",
    "memory=Memory(cachedir='cache/',verbose=1)\n",
    "logger=logging.getLogger('quoara_dataset')\n",
    "\n",
    "import sys\n",
    "\n",
    "\n",
    "contraction_dict = {\n",
    "    \"ain't\": \"is not\", \"aren't\": \"are not\", \"can't\": \"cannot\",\n",
    "    \"'cause\": \"because\", \"could've\": \"could have\", \"couldn't\": \"could not\",\n",
    "    \"didn't\": \"did not\", \"doesn't\": \"does not\", \"don't\": \"do not\",\n",
    "    \"hadn't\": \"had not\", \"hasn't\": \"has not\", \"haven't\": \"have not\",\n",
    "    \"he'd\": \"he would\", \"he'll\": \"he will\", \"he's\": \"he is\",\n",
    "    \"how'd\": \"how did\", \"how'd'y\": \"how do you\", \"how'll\": \"how will\",\n",
    "    \"how's\": \"how is\", \"I'd\": \"I would\", \"I'd've\": \"I would have\",\n",
    "    \"I'll\": \"I will\", \"I'll've\": \"I will have\", \"I'm\": \"I am\",\n",
    "    \"I've\": \"I have\", \"i'd\": \"i would\", \"i'd've\": \"i would have\",\n",
    "    \"i'll\": \"i will\",  \"i'll've\": \"i will have\", \"i'm\": \"i am\",\n",
    "    \"i've\": \"i have\", \"isn't\": \"is not\", \"it'd\": \"it would\",\n",
    "    \"it'd've\": \"it would have\", \"it'll\": \"it will\", \"it'll've\": \"it will have\",\n",
    "    \"it's\": \"it is\", \"let's\": \"let us\", \"ma'am\": \"madam\",\n",
    "    \"mayn't\": \"may not\", \"might've\": \"might have\", \"mightn't\": \"might not\",\n",
    "    \"mightn't've\": \"might not have\", \"must've\": \"must have\", \"mustn't\": \"must not\",\n",
    "    \"mustn't've\": \"must not have\", \"needn't\": \"need not\", \"needn't've\": \"need not have\",\n",
    "    \"o'clock\": \"of the clock\", \"oughtn't\": \"ought not\", \"oughtn't've\": \"ought not have\",\n",
    "    \"shan't\": \"shall not\", \"sha'n't\": \"shall not\", \"shan't've\": \"shall not have\",\n",
    "    \"she'd\": \"she would\", \"she'd've\": \"she would have\", \"she'll\": \"she will\",\n",
    "    \"she'll've\": \"she will have\", \"she's\": \"she is\", \"should've\": \"should have\",\n",
    "    \"shouldn't\": \"should not\", \"shouldn't've\": \"should not have\", \"so've\": \"so have\",\n",
    "    \"so's\": \"so as\", \"this's\": \"this is\", \"that'd\": \"that would\",\n",
    "    \"that'd've\": \"that would have\", \"that's\": \"that is\", \"there'd\": \"there would\",\n",
    "    \"there'd've\": \"there would have\", \"there's\": \"there is\", \"here's\": \"here is\",\n",
    "    \"they'd\": \"they would\", \"they'd've\": \"they would have\", \"they'll\": \"they will\",\n",
    "    \"they'll've\": \"they will have\", \"they're\": \"they are\", \"they've\": \"they have\",\n",
    "    \"to've\": \"to have\", \"wasn't\": \"was not\", \"we'd\": \"we would\",\n",
    "    \"we'd've\": \"we would have\", \"we'll\": \"we will\", \"we'll've\": \"we will have\",\n",
    "    \"we're\": \"we are\", \"we've\": \"we have\", \"weren't\": \"were not\",\n",
    "    \"what'll\": \"what will\", \"what'll've\": \"what will have\", \"what're\": \"what are\",\n",
    "    \"what's\": \"what is\", \"what've\": \"what have\", \"when's\": \"when is\",\n",
    "    \"when've\": \"when have\", \"where'd\": \"where did\", \"where's\": \"where is\",\n",
    "    \"where've\": \"where have\", \"who'll\": \"who will\", \"who'll've\": \"who will have\",\n",
    "    \"who's\": \"who is\", \"who've\": \"who have\", \"why's\": \"why is\",\n",
    "    \"why've\": \"why have\", \"will've\": \"will have\", \"won't\": \"will not\",\n",
    "    \"won't've\": \"will not have\", \"would've\": \"would have\", \"wouldn't\": \"would not\",\n",
    "    \"wouldn't've\": \"would not have\", \"y'all\": \"you all\", \"y'all'd\": \"you all would\",\n",
    "    \"y'all'd've\": \"you all would have\", \"y'all're\": \"you all are\", \"y'all've\": \"you all have\",\n",
    "    \"you'd\": \"you would\", \"you'd've\": \"you would have\", \"you'll\": \"you will\",\n",
    "    \"you'll've\": \"you will have\", \"you're\": \"you are\", \"you've\": \"you have\"\n",
    "}\n",
    "\n",
    "punct = \"/-'?!.,#$%\\'()*+-/:;<=>@[\\\\]^_`{|}~\" + '\"\"“”’' + '∞θ÷α•à−β∅³π‘₹´°£€\\×™√²—–&'+'\\u200b'+'\\ufeff'+ 'करना'+'है'\n",
    "punct_dict = {\n",
    "    \"‘\": \"'\",    \"₹\": \"e\",      \"´\": \"'\", \"°\": \"\",         \"€\": \"e\",\n",
    "    \"™\": \"tm\",   \"√\": \" sqrt \", \"×\": \"x\", \"²\": \"2\",        \"—\": \"-\",\n",
    "    \"–\": \"-\",    \"’\": \"'\",      \"_\": \"-\", \"`\": \"'\",        '“': '\"',\n",
    "    '”': '\"',    '“': '\"',      \"£\": \"e\", '∞': 'infinity', 'θ': 'theta',\n",
    "    '÷': '/',    'α': 'alpha',  '•': '.', 'à': 'a',        '−': '-',\n",
    "    'β': 'beta', '∅': ' ', '³': '3', 'π': 'pi','करना':' ','है':' ','\\ufeff':' '\n",
    "}\n",
    "\n",
    "\n",
    "def tokenizer(comment,max_char=10):\n",
    "    comment=re.sub(r\"[\\*\\\"“”\\n\\\\…\\+\\-\\/\\=\\(\\)‘•:\\[\\]\\|’\\!;.]\",\" \",str(comment).lower())\n",
    "    comment=re.sub(r'\\?+',' ',comment)\n",
    "    comment=re.sub(r'\\!+',' ',comment)\n",
    "    comment=re.sub(r'\\~+',' ',comment)\n",
    "    comment=re.sub(r'\\,+',' ',comment)\n",
    "    comment=re.sub(r\"[ ]+\",\" \",comment)\n",
    "    if (len(comment))>max_char:\n",
    "        comment=comment[:max_char]\n",
    "    nlp=spacy.load('en_core_web_sm')\n",
    "    tokenizer=[x.text for x in nlp.tokenizer(comment) if x.text!=' ']\n",
    "    \n",
    "    stopwords=nltk.corpus.stopwords.words('english')\n",
    "    for index,word in enumerate(tokenizer):\n",
    "        if word in stopwords:\n",
    "            tokenizer.pop(index)\n",
    "        if word in punct_dict:\n",
    "            tokenizer[index]=punct_dict[word]\n",
    "    \n",
    "    return tokenizer\n",
    "\n",
    "\n",
    "def prepare_csv():\n",
    "    df_train=pd.read_csv('/home/dseo40/nlp/quora/train2.csv')\n",
    "    df_train['qid']=df_train['qid'].replace('\\n',' ')\n",
    "    train_data,val_data=train_test_split(df_train,test_size=0.2)\n",
    "    train_data.to_csv('cache/dataset_train.csv',index=False)\n",
    "    val_data.to_csv('cache/dataset_val.csv',index=False)\n",
    "    test_data=pd.read_csv('/home/dseo40/nlp/quora/test2.csv')\n",
    "    test_data['qid']=test_data['qid'].replace('\\n',' ')\n",
    "    test_data.to_csv('cache/dataset_test.csv',index=False)\n",
    "    \n",
    "'''\n",
    "allowed pretrained vectors are ['charngram.100d', 'fasttext.en.300d', 'fasttext.simple.300d', \n",
    "'glove.42B.300d', 'glove.840B.300d','glove.twitter.27B.25d', 'glove.twitter.27B.50d',\n",
    "'glove.twitter.27B.100d', 'glove.twitter.27B.200d','glove.6B.50d', 'glove.6B.100d',\n",
    "'glove.6B.200d', 'glove.6B.300d']\n",
    "'''\n",
    "@memory.cache\n",
    "def read_files(fix_length=10,lower=False,vectors=None):\n",
    "    if vectors is not None:\n",
    "        #pretain vectors only support all lower case\n",
    "        lower=True\n",
    "    logger.debug('Prepare csv files')\n",
    "    prepare_csv()\n",
    "    comment=data.Field(\n",
    "            sequential=True,\n",
    "            fix_length=fix_length,\n",
    "            tokenize=tokenizer,\n",
    "            pad_first=True,\n",
    "            batch_first=True,\n",
    "            lower=lower)\n",
    "    label=data.Field(\n",
    "          sequential=False,\n",
    "          use_vocab=False)\n",
    "    data_fields=[('qid',None),('question_text',comment),('target',label)]\n",
    "    logger.debug('reading train csv file')\n",
    "    trn,vld=data.TabularDataset.splits(path='cache/',train='dataset_train.csv',validation='dataset_val.csv',\n",
    "                                 format='csv',skip_header=True,fields=data_fields)\n",
    "    test=data.TabularDataset(path='cache/dataset_test.csv',format='csv',skip_header=True,fields=data_fields)\n",
    "    comment.build_vocab(\n",
    "            trn,\n",
    "            max_size=10,\n",
    "            min_freq=2,\n",
    "            vectors=vectors)\n",
    "    return trn,vld,test\n",
    " \n"
   ]
  },
  {
   "cell_type": "code",
   "execution_count": 68,
   "metadata": {},
   "outputs": [
    {
     "name": "stderr",
     "output_type": "stream",
     "text": [
      "WARNING:root:[MemorizedFunc(func=<function read_files at 0x7f1a4175a950>, location=cache/joblib)]: Clearing function cache identified by __main__--home-dseo40-__ipython-input__/read_files\n"
     ]
    },
    {
     "name": "stdout",
     "output_type": "stream",
     "text": [
      "________________________________________________________________________________\n",
      "[Memory] Calling __main__--home-dseo40-__ipython-input__.read_files...\n",
      "read_files()\n",
      "______________________________________________________read_files - 13.2s, 0.2min\n"
     ]
    }
   ],
   "source": [
    "from torchtext.data import BucketIterator\n",
    "import tqdm\n",
    "from sklearn.model_selection import train_test_split\n",
    "trn,vld,test=read_files()"
   ]
  },
  {
   "cell_type": "code",
   "execution_count": 110,
   "metadata": {},
   "outputs": [],
   "source": [
    "train_iter,val_iter=BucketIterator.splits((trn,vld)\n",
    "                                          ,batch_size=3\n",
    "                                          ,sort_key=lambda x:len(x.question_text)\n",
    "                                          ,sort_within_batch=False\n",
    "                                          ,repeat=False)"
   ]
  },
  {
   "cell_type": "code",
   "execution_count": 111,
   "metadata": {},
   "outputs": [],
   "source": [
    "#dl must be an itertor\n",
    "#x_var be the name of input_feature\n",
    "#y_var be the name of output\n",
    "\n",
    "class BatchWrapper:\n",
    "    def __init__(self,dl,x_var,y_var):\n",
    "        self.dl=dl\n",
    "        self.x_var=x_var\n",
    "        self.y_var=y_var\n",
    "    def __iter__(self):\n",
    "        for batch in self.dl:\n",
    "            x=getattr(batch,self.x_var)\n",
    "            if type(self.y_var)==list and len(self.y_var)>0:\n",
    "                y=torch.cat([getattr(batch,feat).unsqueeze(1) for feat in self.y_var],dim=1).float()\n",
    "            elif self.y_var==None:\n",
    "                y=torch.zeros(1)\n",
    "            else: \n",
    "                y=getattr(batch,self.y_var)\n",
    "            yield(x,y)\n",
    "    def __len__(self):\n",
    "        return len(self.dl)"
   ]
  },
  {
   "cell_type": "code",
   "execution_count": 112,
   "metadata": {},
   "outputs": [],
   "source": [
    "train_dl = BatchWrapper(train_iter, 'question_text','target')\n",
    "valid_dl=BatchWrapper(val_iter,'question_text','target')"
   ]
  },
  {
   "cell_type": "code",
   "execution_count": 113,
   "metadata": {},
   "outputs": [],
   "source": [
    "import torch.nn as nn\n",
    "class GRU(nn.Module):\n",
    "    def __init__(self, n_layers, hidden_dim, n_vocab, embed_dim, n_classes, dropout_p=0.2):\n",
    "        super(GRU,self).__init__()\n",
    "        self.n_layers=n_layers\n",
    "        self.hidden_dim=hidden_dim\n",
    "        self.embed=nn.Embedding(n_vocab,embed_dim)\n",
    "        self.dropout=nn.Dropout(dropout_p)\n",
    "        self.gru=nn.GRU(embed_dim,hidden_dim,num_layers=n_layers,batch_first=True)\n",
    "        self.out=nn.Linear(hidden_dim,n_classes)\n",
    "    \n",
    "    def __init__state(self,batch_size):\n",
    "        weight=next(self.parameters()).data\n",
    "        return weight.new(self.n_layers,batch_size,self.hidden_dim).zero_()\n",
    "    \n",
    "    def forward(self,x):\n",
    "        x=self.embed(x)\n",
    "        h_0=self.__init__state(batch_size=x.size(0))\n",
    "        x,_=self.gru(x,h_0)\n",
    "        h_t=x[:,-1,:]\n",
    "        self.dropout(h_t)\n",
    "        logit=self.out(h_t)\n",
    "        return logit"
   ]
  },
  {
   "cell_type": "code",
   "execution_count": 114,
   "metadata": {},
   "outputs": [],
   "source": [
    "import tqdm\n",
    "import torch.optim as optim\n",
    "import torch.nn.functional as F\n",
    "model = GRU(n_layers=1,hidden_dim=4,n_vocab=10,embed_dim=128,n_classes=2,dropout_p=0.5)\n",
    "opt=optim.Adam(model.parameters(),lr=1e-2)"
   ]
  },
  {
   "cell_type": "code",
   "execution_count": 158,
   "metadata": {},
   "outputs": [
    {
     "name": "stdout",
     "output_type": "stream",
     "text": [
      "Epoch: 1, Training Loss: 0.0216, Validation Loss: 0.0204\n",
      "Corrects: 0\n",
      "time taken:0.03238248825073242\n",
      "----------------------------------------------------------------------------------------------------\n",
      "Epoch: 2, Training Loss: 0.0198, Validation Loss: 0.0188\n",
      "Corrects: 0\n",
      "time taken:0.05772686004638672\n",
      "----------------------------------------------------------------------------------------------------\n",
      "Epoch: 3, Training Loss: 0.0184, Validation Loss: 0.0175\n",
      "Corrects: 0\n",
      "time taken:0.07532286643981934\n",
      "----------------------------------------------------------------------------------------------------\n"
     ]
    }
   ],
   "source": [
    "import sys\n",
    "import time\n",
    "start=time.time()\n",
    "EPOCH=3\n",
    "for epoch in range(1,EPOCH+1):\n",
    "    running_loss=0\n",
    "\n",
    "    model.train()\n",
    "    for x,y in train_dl:\n",
    "        opt.zero_grad()\n",
    "        pred=model(x)\n",
    "        #In our case, each iteration returns b*c matrix where b represents the number of batch while c refers to the number of classes\n",
    "        #Since the function we are dealing with cross entropy, we should pick the maxium value for each instance ie) logit.max(1) \n",
    "        #tensor.max(axis=) or tensor.min(axis=) returns values and indices of the chosen operation. Note that 0 is for indicies\n",
    "        #whiel 1 for indices\n",
    "        #Now,we need to compare our predicted classes with the actual ones. Before the comparison, make sure that the shapes of \n",
    "        #both must match to each other. logit.max(1)[1].view(y.size())\n",
    "        loss=F.cross_entropy(pred,y)\n",
    "        loss.backward()\n",
    "        opt.step()\n",
    "        running_loss+=loss.data*x.size(0)\n",
    "    epoch_loss=running_loss/len(trn)\n",
    " \n",
    "    running_corrects=0\n",
    "    #Evaluation begins\n",
    "    val_loss=0\n",
    "    corrects=0\n",
    "    model.eval()\n",
    "    for x,y in valid_dl:\n",
    "        pred=model(x)\n",
    "        loss=F.cross_entropy(pred,y)\n",
    "        val_loss+=loss.data*x.size(0)\n",
    "        running_corrects+=(pred.max(1)[1].view(y.size()).data==y.data).sum()\n",
    "    val_loss/=len(vld)\n",
    "    epoch_accuracy=running_corrects/len(trn)\n",
    "    print('Epoch: {}, Training Loss: {:.4f}, Validation Loss: {:.4f}'.format(epoch, epoch_loss, val_loss))\n",
    "    print('Corrects: {}'.format(epoch_accuracy))\n",
    "    print(f'time taken:{time.time()-start}')\n",
    "    print('-'*100)"
   ]
  },
  {
   "cell_type": "code",
   "execution_count": 153,
   "metadata": {},
   "outputs": [],
   "source": [
    "x=torch.FloatTensor([[1,2,3],[4,5,6]])"
   ]
  },
  {
   "cell_type": "code",
   "execution_count": 154,
   "metadata": {},
   "outputs": [
    {
     "data": {
      "text/plain": [
       "torch.return_types.min(\n",
       "values=tensor([1., 4.]),\n",
       "indices=tensor([0, 0]))"
      ]
     },
     "execution_count": 154,
     "metadata": {},
     "output_type": "execute_result"
    }
   ],
   "source": [
    "x.min(axis=1)"
   ]
  },
  {
   "cell_type": "code",
   "execution_count": null,
   "metadata": {},
   "outputs": [],
   "source": []
  }
 ],
 "metadata": {
  "kernelspec": {
   "display_name": "Python 3",
   "language": "python",
   "name": "python3"
  },
  "language_info": {
   "codemirror_mode": {
    "name": "ipython",
    "version": 3
   },
   "file_extension": ".py",
   "mimetype": "text/x-python",
   "name": "python",
   "nbconvert_exporter": "python",
   "pygments_lexer": "ipython3",
   "version": "3.7.7"
  }
 },
 "nbformat": 4,
 "nbformat_minor": 4
}
